{
 "cells": [
  {
   "cell_type": "code",
   "execution_count": 1,
   "metadata": {},
   "outputs": [
    {
     "name": "stdout",
     "output_type": "stream",
     "text": [
      "This is my first Python program\n"
     ]
    }
   ],
   "source": [
    "#Task1.1\n",
    "print(\"This is my first Python program\")"
   ]
  },
  {
   "cell_type": "code",
   "execution_count": 2,
   "metadata": {},
   "outputs": [
    {
     "name": "stdout",
     "output_type": "stream",
     "text": [
      "2002,2009,2016,2023,2037,2044,2051,2058,2072,2079,2086,2093,2107,2114,2121,2128,2142,2149,2156,2163,2177,2184,2191,2198,2212,2219,2226,2233,2247,2254,2261,2268,2282,2289,2296,2303,2317,2324,2331,2338,2352,2359,2366,2373,2387,2394,2401,2408,2422,2429,2436,2443,2457,2464,2471,2478,2492,2499,2506,2513,2527,2534,2541,2548,2562,2569,2576,2583,2597,2604,2611,2618,2632,2639,2646,2653,2667,2674,2681,2688,2702,2709,2716,2723,2737,2744,2751,2758,2772,2779,2786,2793,2807,2814,2821,2828,2842,2849,2856,2863,2877,2884,2891,2898,2912,2919,2926,2933,2947,2954,2961,2968,2982,2989,2996,3003,3017,3024,3031,3038,3052,3059,3066,3073,3087,3094,3101,3108,3122,3129,3136,3143,3157,3164,3171,3178,3192,3199,"
     ]
    }
   ],
   "source": [
    "#Task1.2\n",
    "for x in range(2000,3201):\n",
    "    if(x%7==0 and x%5!=0):\n",
    "        print(x,end=',')"
   ]
  },
  {
   "cell_type": "code",
   "execution_count": 7,
   "metadata": {},
   "outputs": [
    {
     "name": "stdout",
     "output_type": "stream",
     "text": [
      "Enter firstname and lastname: 12 sm\n",
      "21 ms "
     ]
    }
   ],
   "source": [
    "#Task1.3\n",
    "#using string method\n",
    "str=input(\"Enter firstname and lastname: \")\n",
    "str1=str.split(' ')\n",
    "for x in str1:\n",
    "    print(x[::-1],end=' ')"
   ]
  },
  {
   "cell_type": "code",
   "execution_count": 15,
   "metadata": {},
   "outputs": [
    {
     "name": "stdout",
     "output_type": "stream",
     "text": [
      "Enter firstname and lastname: qawse Smruti\n",
      "eswaq iturmS  "
     ]
    }
   ],
   "source": [
    "#Task1.3 without using string method\n",
    "str=input(\"Enter firstname and lastname: \")\n",
    "list1=[]\n",
    "i=0\n",
    "#GET THE INDEX OF ' '\n",
    "for ch in str:\n",
    "    if(ch==' '):\n",
    "        list1.append(i)\n",
    "    i=i+1\n",
    "#GET THE SUBSTRING SPLIT WITH ' '\n",
    "list2=[]\n",
    "j=0\n",
    "for i in list1:\n",
    "    list2.append(str[j:i])\n",
    "    j=i+1\n",
    "#add last token to list\n",
    "if(len(list1)>0):\n",
    "    list2.append(str[list1[len(list1)-1]:len(str)])\n",
    "else:\n",
    "    list2.append(str)\n",
    "#PRINT EACH SUBSTRING IN REV \n",
    "if(len(list2)>0):\n",
    "    for x in list2:\n",
    "        print(x[::-1],end=' ')"
   ]
  },
  {
   "cell_type": "code",
   "execution_count": 16,
   "metadata": {},
   "outputs": [
    {
     "name": "stdout",
     "output_type": "stream",
     "text": [
      "Volume of spehere is 904.7786842338603\n"
     ]
    }
   ],
   "source": [
    "#Task1.4  volume of sphere with diameter 12cm\n",
    "#v=4/3*pie*r3\n",
    "import math\n",
    "d=12\n",
    "V=4/3*math.pi*pow((d/2),3)\n",
    "print(\"Volume of spehere is\",V)"
   ]
  },
  {
   "cell_type": "code",
   "execution_count": 11,
   "metadata": {},
   "outputs": [
    {
     "name": "stdout",
     "output_type": "stream",
     "text": [
      "Enter numbers separtaed by ','::1,2,3,7\n",
      "Required output list::  ['1', '2', '3', '7']\n"
     ]
    }
   ],
   "source": [
    "#Task2.1\n",
    "values=input(\"Enter numbers separtaed by ','::\")\n",
    "list=values.split(',')\n",
    "print(\"Required output list:: \",list)"
   ]
  },
  {
   "cell_type": "code",
   "execution_count": 12,
   "metadata": {},
   "outputs": [
    {
     "name": "stdout",
     "output_type": "stream",
     "text": [
      "* \r\n",
      "* * \r\n",
      "* * * \r\n",
      "* * * * \r\n",
      "* * * * * \r\n",
      "* * * * \r\n",
      "* * * \r\n",
      "* * \r\n",
      "* \r\n"
     ]
    }
   ],
   "source": [
    "#Task2.2 pattern using nested for loop\n",
    "\n",
    "for i in range(0,5):\n",
    "    for j in range(0,i+1):\n",
    "        print(\"*\",end=' ')\n",
    "    print(\"\\r\")    \n",
    "for i in range(0,4):\n",
    "    for j in range(4,i,-1):\n",
    "        print(\"*\",end=' ')\n",
    "    print(\"\\r\")"
   ]
  },
  {
   "cell_type": "code",
   "execution_count": 13,
   "metadata": {},
   "outputs": [
    {
     "name": "stdout",
     "output_type": "stream",
     "text": [
      "Enter word: AcadGild\n",
      "dliGdacA "
     ]
    }
   ],
   "source": [
    "#Task2.3 reverse a word\n",
    "\n",
    "str=input(\"Enter word: \")\n",
    "str1=str.split(' ')\n",
    "for x in str1:\n",
    "    print(x[::-1],end=' ')"
   ]
  },
  {
   "cell_type": "code",
   "execution_count": 14,
   "metadata": {},
   "outputs": [
    {
     "name": "stdout",
     "output_type": "stream",
     "text": [
      "WE, THE PEOPLE OF INDIA,\n",
      " having solemnly resolved to constitute India into a SOVEREIGN,! \n",
      "\tSOCIALIST, SECULAR, DEMOCRATIC REPUBLIC\n",
      " \t  and to secure to all its citizens\n"
     ]
    }
   ],
   "source": [
    "print(\"WE, THE PEOPLE OF INDIA,\\n having solemnly resolved to constitute India into a SOVEREIGN,! \\n\\tSOCIALIST, SECULAR, DEMOCRATIC REPUBLIC\\n \\t  and to secure to all its citizens\")"
   ]
  },
  {
   "cell_type": "code",
   "execution_count": null,
   "metadata": {},
   "outputs": [],
   "source": []
  }
 ],
 "metadata": {
  "kernelspec": {
   "display_name": "Python 3",
   "language": "python",
   "name": "python3"
  },
  "language_info": {
   "codemirror_mode": {
    "name": "ipython",
    "version": 3
   },
   "file_extension": ".py",
   "mimetype": "text/x-python",
   "name": "python",
   "nbconvert_exporter": "python",
   "pygments_lexer": "ipython3",
   "version": "3.6.4"
  }
 },
 "nbformat": 4,
 "nbformat_minor": 2
}
